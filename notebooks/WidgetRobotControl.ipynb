{
 "cells": [
  {
   "cell_type": "code",
   "execution_count": 2,
   "id": "5f433544",
   "metadata": {
    "ExecuteTime": {
     "end_time": "2023-07-11T19:17:07.463661Z",
     "start_time": "2023-07-11T19:17:06.823856Z"
    },
    "scrolled": true
   },
   "outputs": [
    {
     "ename": "ConnectionRefusedError",
     "evalue": "[Errno 111] Connection refused",
     "output_type": "error",
     "traceback": [
      "\u001b[0;31m---------------------------------------------------------------------------\u001b[0m",
      "\u001b[0;31mConnectionRefusedError\u001b[0m                    Traceback (most recent call last)",
      "Cell \u001b[0;32mIn[2], line 29\u001b[0m\n\u001b[1;32m     26\u001b[0m \u001b[38;5;28;01mglobal\u001b[39;00m ui_client, act_client\n\u001b[1;32m     27\u001b[0m ui_client \u001b[38;5;241m=\u001b[39m rospy\u001b[38;5;241m.\u001b[39mServiceProxy(\u001b[38;5;124m'\u001b[39m\u001b[38;5;124m/user_interface\u001b[39m\u001b[38;5;124m'\u001b[39m, Command)\n\u001b[0;32m---> 29\u001b[0m act_client \u001b[38;5;241m=\u001b[39m \u001b[43mactionlib\u001b[49m\u001b[38;5;241;43m.\u001b[39;49m\u001b[43mSimpleActionClient\u001b[49m\u001b[43m(\u001b[49m\u001b[38;5;124;43m'\u001b[39;49m\u001b[38;5;124;43m/reaching_goal\u001b[39;49m\u001b[38;5;124;43m'\u001b[39;49m\u001b[43m,\u001b[49m\u001b[43mrt2_assignment1\u001b[49m\u001b[38;5;241;43m.\u001b[39;49m\u001b[43mmsg\u001b[49m\u001b[38;5;241;43m.\u001b[39;49m\u001b[43mplanningAction\u001b[49m\u001b[43m)\u001b[49m\n\u001b[1;32m     30\u001b[0m act_client\u001b[38;5;241m.\u001b[39mwait_for_server()\n\u001b[1;32m     32\u001b[0m \u001b[38;5;66;03m#publishing the velocity to move the robot\u001b[39;00m\n",
      "File \u001b[0;32m/opt/ros/noetic/lib/python3/dist-packages/actionlib/simple_action_client.py:55\u001b[0m, in \u001b[0;36mSimpleActionClient.__init__\u001b[0;34m(self, ns, ActionSpec)\u001b[0m\n\u001b[1;32m     54\u001b[0m \u001b[38;5;28;01mdef\u001b[39;00m \u001b[38;5;21m__init__\u001b[39m(\u001b[38;5;28mself\u001b[39m, ns, ActionSpec):\n\u001b[0;32m---> 55\u001b[0m     \u001b[38;5;28mself\u001b[39m\u001b[38;5;241m.\u001b[39maction_client \u001b[38;5;241m=\u001b[39m \u001b[43mActionClient\u001b[49m\u001b[43m(\u001b[49m\u001b[43mns\u001b[49m\u001b[43m,\u001b[49m\u001b[43m \u001b[49m\u001b[43mActionSpec\u001b[49m\u001b[43m)\u001b[49m\n\u001b[1;32m     56\u001b[0m     \u001b[38;5;28mself\u001b[39m\u001b[38;5;241m.\u001b[39msimple_state \u001b[38;5;241m=\u001b[39m SimpleGoalState\u001b[38;5;241m.\u001b[39mDONE\n\u001b[1;32m     57\u001b[0m     \u001b[38;5;28mself\u001b[39m\u001b[38;5;241m.\u001b[39mgh \u001b[38;5;241m=\u001b[39m \u001b[38;5;28;01mNone\u001b[39;00m\n",
      "File \u001b[0;32m/opt/ros/noetic/lib/python3/dist-packages/actionlib/action_client.py:521\u001b[0m, in \u001b[0;36mActionClient.__init__\u001b[0;34m(self, ns, ActionSpec)\u001b[0m\n\u001b[1;32m    518\u001b[0m \u001b[38;5;28;01mexcept\u001b[39;00m \u001b[38;5;167;01mAttributeError\u001b[39;00m:\n\u001b[1;32m    519\u001b[0m     \u001b[38;5;28;01mraise\u001b[39;00m ActionException(\u001b[38;5;124m\"\u001b[39m\u001b[38;5;124mType is not an action spec: \u001b[39m\u001b[38;5;132;01m%s\u001b[39;00m\u001b[38;5;124m\"\u001b[39m \u001b[38;5;241m%\u001b[39m \u001b[38;5;28mstr\u001b[39m(ActionSpec))\n\u001b[0;32m--> 521\u001b[0m \u001b[38;5;28mself\u001b[39m\u001b[38;5;241m.\u001b[39mpub_queue_size \u001b[38;5;241m=\u001b[39m \u001b[43mrospy\u001b[49m\u001b[38;5;241;43m.\u001b[39;49m\u001b[43mget_param\u001b[49m\u001b[43m(\u001b[49m\u001b[38;5;124;43m'\u001b[39;49m\u001b[38;5;124;43mactionlib_client_pub_queue_size\u001b[39;49m\u001b[38;5;124;43m'\u001b[39;49m\u001b[43m,\u001b[49m\u001b[43m \u001b[49m\u001b[38;5;241;43m10\u001b[39;49m\u001b[43m)\u001b[49m\n\u001b[1;32m    522\u001b[0m \u001b[38;5;28;01mif\u001b[39;00m \u001b[38;5;28mself\u001b[39m\u001b[38;5;241m.\u001b[39mpub_queue_size \u001b[38;5;241m<\u001b[39m \u001b[38;5;241m0\u001b[39m:\n\u001b[1;32m    523\u001b[0m     \u001b[38;5;28mself\u001b[39m\u001b[38;5;241m.\u001b[39mpub_queue_size \u001b[38;5;241m=\u001b[39m \u001b[38;5;241m10\u001b[39m\n",
      "File \u001b[0;32m/opt/ros/noetic/lib/python3/dist-packages/rospy/client.py:467\u001b[0m, in \u001b[0;36mget_param\u001b[0;34m(param_name, default)\u001b[0m\n\u001b[1;32m    465\u001b[0m \u001b[38;5;28;01mtry\u001b[39;00m:\n\u001b[1;32m    466\u001b[0m     _init_param_server()\n\u001b[0;32m--> 467\u001b[0m     \u001b[38;5;28;01mreturn\u001b[39;00m \u001b[43m_param_server\u001b[49m\u001b[43m[\u001b[49m\u001b[43mparam_name\u001b[49m\u001b[43m]\u001b[49m \u001b[38;5;66;03m#MasterProxy does all the magic for us\u001b[39;00m\n\u001b[1;32m    468\u001b[0m \u001b[38;5;28;01mexcept\u001b[39;00m \u001b[38;5;167;01mKeyError\u001b[39;00m:\n\u001b[1;32m    469\u001b[0m     \u001b[38;5;28;01mif\u001b[39;00m default \u001b[38;5;241m!=\u001b[39m _unspecified:\n",
      "File \u001b[0;32m/opt/ros/noetic/lib/python3/dist-packages/rospy/msproxy.py:121\u001b[0m, in \u001b[0;36mMasterProxy.__getitem__\u001b[0;34m(self, key)\u001b[0m\n\u001b[1;32m    119\u001b[0m \u001b[38;5;28;01mexcept\u001b[39;00m \u001b[38;5;167;01mKeyError\u001b[39;00m:\n\u001b[1;32m    120\u001b[0m     \u001b[38;5;28;01mpass\u001b[39;00m\n\u001b[0;32m--> 121\u001b[0m code, msg, value \u001b[38;5;241m=\u001b[39m \u001b[38;5;28;43mself\u001b[39;49m\u001b[38;5;241;43m.\u001b[39;49m\u001b[43mtarget\u001b[49m\u001b[38;5;241;43m.\u001b[39;49m\u001b[43mgetParam\u001b[49m\u001b[43m(\u001b[49m\u001b[43mrospy\u001b[49m\u001b[38;5;241;43m.\u001b[39;49m\u001b[43mnames\u001b[49m\u001b[38;5;241;43m.\u001b[39;49m\u001b[43mget_caller_id\u001b[49m\u001b[43m(\u001b[49m\u001b[43m)\u001b[49m\u001b[43m,\u001b[49m\u001b[43m \u001b[49m\u001b[43mresolved_key\u001b[49m\u001b[43m)\u001b[49m\n\u001b[1;32m    122\u001b[0m \u001b[38;5;28;01mif\u001b[39;00m code \u001b[38;5;241m!=\u001b[39m \u001b[38;5;241m1\u001b[39m: \u001b[38;5;66;03m#unwrap value with Python semantics\u001b[39;00m\n\u001b[1;32m    123\u001b[0m     \u001b[38;5;28;01mraise\u001b[39;00m \u001b[38;5;167;01mKeyError\u001b[39;00m(key)\n",
      "File \u001b[0;32m/usr/lib/python3.8/xmlrpc/client.py:1109\u001b[0m, in \u001b[0;36m_Method.__call__\u001b[0;34m(self, *args)\u001b[0m\n\u001b[1;32m   1108\u001b[0m \u001b[38;5;28;01mdef\u001b[39;00m \u001b[38;5;21m__call__\u001b[39m(\u001b[38;5;28mself\u001b[39m, \u001b[38;5;241m*\u001b[39margs):\n\u001b[0;32m-> 1109\u001b[0m     \u001b[38;5;28;01mreturn\u001b[39;00m \u001b[38;5;28;43mself\u001b[39;49m\u001b[38;5;241;43m.\u001b[39;49m\u001b[43m__send\u001b[49m\u001b[43m(\u001b[49m\u001b[38;5;28;43mself\u001b[39;49m\u001b[38;5;241;43m.\u001b[39;49m\u001b[43m__name\u001b[49m\u001b[43m,\u001b[49m\u001b[43m \u001b[49m\u001b[43margs\u001b[49m\u001b[43m)\u001b[49m\n",
      "File \u001b[0;32m/opt/ros/noetic/lib/python3/dist-packages/rospy/core.py:669\u001b[0m, in \u001b[0;36m_LockedServerProxy._ServerProxy__request\u001b[0;34m(self, methodname, params)\u001b[0m\n\u001b[1;32m    667\u001b[0m \u001b[38;5;28;01mdef\u001b[39;00m \u001b[38;5;21m_ServerProxy__request\u001b[39m(\u001b[38;5;28mself\u001b[39m, methodname, params):\n\u001b[1;32m    668\u001b[0m     \u001b[38;5;28;01mwith\u001b[39;00m \u001b[38;5;28mself\u001b[39m\u001b[38;5;241m.\u001b[39m_lock:\n\u001b[0;32m--> 669\u001b[0m         \u001b[38;5;28;01mreturn\u001b[39;00m \u001b[43mxmlrpcclient\u001b[49m\u001b[38;5;241;43m.\u001b[39;49m\u001b[43mServerProxy\u001b[49m\u001b[38;5;241;43m.\u001b[39;49m\u001b[43m_ServerProxy__request\u001b[49m\u001b[43m(\u001b[49m\n\u001b[1;32m    670\u001b[0m \u001b[43m            \u001b[49m\u001b[38;5;28;43mself\u001b[39;49m\u001b[43m,\u001b[49m\u001b[43m \u001b[49m\u001b[43mmethodname\u001b[49m\u001b[43m,\u001b[49m\u001b[43m \u001b[49m\u001b[43mparams\u001b[49m\u001b[43m)\u001b[49m\n",
      "File \u001b[0;32m/usr/lib/python3.8/xmlrpc/client.py:1450\u001b[0m, in \u001b[0;36mServerProxy.__request\u001b[0;34m(self, methodname, params)\u001b[0m\n\u001b[1;32m   1444\u001b[0m \u001b[38;5;28;01mdef\u001b[39;00m \u001b[38;5;21m__request\u001b[39m(\u001b[38;5;28mself\u001b[39m, methodname, params):\n\u001b[1;32m   1445\u001b[0m     \u001b[38;5;66;03m# call a method on the remote server\u001b[39;00m\n\u001b[1;32m   1447\u001b[0m     request \u001b[38;5;241m=\u001b[39m dumps(params, methodname, encoding\u001b[38;5;241m=\u001b[39m\u001b[38;5;28mself\u001b[39m\u001b[38;5;241m.\u001b[39m__encoding,\n\u001b[1;32m   1448\u001b[0m                     allow_none\u001b[38;5;241m=\u001b[39m\u001b[38;5;28mself\u001b[39m\u001b[38;5;241m.\u001b[39m__allow_none)\u001b[38;5;241m.\u001b[39mencode(\u001b[38;5;28mself\u001b[39m\u001b[38;5;241m.\u001b[39m__encoding, \u001b[38;5;124m'\u001b[39m\u001b[38;5;124mxmlcharrefreplace\u001b[39m\u001b[38;5;124m'\u001b[39m)\n\u001b[0;32m-> 1450\u001b[0m     response \u001b[38;5;241m=\u001b[39m \u001b[38;5;28;43mself\u001b[39;49m\u001b[38;5;241;43m.\u001b[39;49m\u001b[43m__transport\u001b[49m\u001b[38;5;241;43m.\u001b[39;49m\u001b[43mrequest\u001b[49m\u001b[43m(\u001b[49m\n\u001b[1;32m   1451\u001b[0m \u001b[43m        \u001b[49m\u001b[38;5;28;43mself\u001b[39;49m\u001b[38;5;241;43m.\u001b[39;49m\u001b[43m__host\u001b[49m\u001b[43m,\u001b[49m\n\u001b[1;32m   1452\u001b[0m \u001b[43m        \u001b[49m\u001b[38;5;28;43mself\u001b[39;49m\u001b[38;5;241;43m.\u001b[39;49m\u001b[43m__handler\u001b[49m\u001b[43m,\u001b[49m\n\u001b[1;32m   1453\u001b[0m \u001b[43m        \u001b[49m\u001b[43mrequest\u001b[49m\u001b[43m,\u001b[49m\n\u001b[1;32m   1454\u001b[0m \u001b[43m        \u001b[49m\u001b[43mverbose\u001b[49m\u001b[38;5;241;43m=\u001b[39;49m\u001b[38;5;28;43mself\u001b[39;49m\u001b[38;5;241;43m.\u001b[39;49m\u001b[43m__verbose\u001b[49m\n\u001b[1;32m   1455\u001b[0m \u001b[43m        \u001b[49m\u001b[43m)\u001b[49m\n\u001b[1;32m   1457\u001b[0m     \u001b[38;5;28;01mif\u001b[39;00m \u001b[38;5;28mlen\u001b[39m(response) \u001b[38;5;241m==\u001b[39m \u001b[38;5;241m1\u001b[39m:\n\u001b[1;32m   1458\u001b[0m         response \u001b[38;5;241m=\u001b[39m response[\u001b[38;5;241m0\u001b[39m]\n",
      "File \u001b[0;32m/usr/lib/python3.8/xmlrpc/client.py:1153\u001b[0m, in \u001b[0;36mTransport.request\u001b[0;34m(self, host, handler, request_body, verbose)\u001b[0m\n\u001b[1;32m   1151\u001b[0m \u001b[38;5;28;01mfor\u001b[39;00m i \u001b[38;5;129;01min\u001b[39;00m (\u001b[38;5;241m0\u001b[39m, \u001b[38;5;241m1\u001b[39m):\n\u001b[1;32m   1152\u001b[0m     \u001b[38;5;28;01mtry\u001b[39;00m:\n\u001b[0;32m-> 1153\u001b[0m         \u001b[38;5;28;01mreturn\u001b[39;00m \u001b[38;5;28;43mself\u001b[39;49m\u001b[38;5;241;43m.\u001b[39;49m\u001b[43msingle_request\u001b[49m\u001b[43m(\u001b[49m\u001b[43mhost\u001b[49m\u001b[43m,\u001b[49m\u001b[43m \u001b[49m\u001b[43mhandler\u001b[49m\u001b[43m,\u001b[49m\u001b[43m \u001b[49m\u001b[43mrequest_body\u001b[49m\u001b[43m,\u001b[49m\u001b[43m \u001b[49m\u001b[43mverbose\u001b[49m\u001b[43m)\u001b[49m\n\u001b[1;32m   1154\u001b[0m     \u001b[38;5;28;01mexcept\u001b[39;00m http\u001b[38;5;241m.\u001b[39mclient\u001b[38;5;241m.\u001b[39mRemoteDisconnected:\n\u001b[1;32m   1155\u001b[0m         \u001b[38;5;28;01mif\u001b[39;00m i:\n",
      "File \u001b[0;32m/usr/lib/python3.8/xmlrpc/client.py:1165\u001b[0m, in \u001b[0;36mTransport.single_request\u001b[0;34m(self, host, handler, request_body, verbose)\u001b[0m\n\u001b[1;32m   1162\u001b[0m \u001b[38;5;28;01mdef\u001b[39;00m \u001b[38;5;21msingle_request\u001b[39m(\u001b[38;5;28mself\u001b[39m, host, handler, request_body, verbose\u001b[38;5;241m=\u001b[39m\u001b[38;5;28;01mFalse\u001b[39;00m):\n\u001b[1;32m   1163\u001b[0m     \u001b[38;5;66;03m# issue XML-RPC request\u001b[39;00m\n\u001b[1;32m   1164\u001b[0m     \u001b[38;5;28;01mtry\u001b[39;00m:\n\u001b[0;32m-> 1165\u001b[0m         http_conn \u001b[38;5;241m=\u001b[39m \u001b[38;5;28;43mself\u001b[39;49m\u001b[38;5;241;43m.\u001b[39;49m\u001b[43msend_request\u001b[49m\u001b[43m(\u001b[49m\u001b[43mhost\u001b[49m\u001b[43m,\u001b[49m\u001b[43m \u001b[49m\u001b[43mhandler\u001b[49m\u001b[43m,\u001b[49m\u001b[43m \u001b[49m\u001b[43mrequest_body\u001b[49m\u001b[43m,\u001b[49m\u001b[43m \u001b[49m\u001b[43mverbose\u001b[49m\u001b[43m)\u001b[49m\n\u001b[1;32m   1166\u001b[0m         resp \u001b[38;5;241m=\u001b[39m http_conn\u001b[38;5;241m.\u001b[39mgetresponse()\n\u001b[1;32m   1167\u001b[0m         \u001b[38;5;28;01mif\u001b[39;00m resp\u001b[38;5;241m.\u001b[39mstatus \u001b[38;5;241m==\u001b[39m \u001b[38;5;241m200\u001b[39m:\n",
      "File \u001b[0;32m/usr/lib/python3.8/xmlrpc/client.py:1278\u001b[0m, in \u001b[0;36mTransport.send_request\u001b[0;34m(self, host, handler, request_body, debug)\u001b[0m\n\u001b[1;32m   1276\u001b[0m headers\u001b[38;5;241m.\u001b[39mappend((\u001b[38;5;124m\"\u001b[39m\u001b[38;5;124mUser-Agent\u001b[39m\u001b[38;5;124m\"\u001b[39m, \u001b[38;5;28mself\u001b[39m\u001b[38;5;241m.\u001b[39muser_agent))\n\u001b[1;32m   1277\u001b[0m \u001b[38;5;28mself\u001b[39m\u001b[38;5;241m.\u001b[39msend_headers(connection, headers)\n\u001b[0;32m-> 1278\u001b[0m \u001b[38;5;28;43mself\u001b[39;49m\u001b[38;5;241;43m.\u001b[39;49m\u001b[43msend_content\u001b[49m\u001b[43m(\u001b[49m\u001b[43mconnection\u001b[49m\u001b[43m,\u001b[49m\u001b[43m \u001b[49m\u001b[43mrequest_body\u001b[49m\u001b[43m)\u001b[49m\n\u001b[1;32m   1279\u001b[0m \u001b[38;5;28;01mreturn\u001b[39;00m connection\n",
      "File \u001b[0;32m/usr/lib/python3.8/xmlrpc/client.py:1308\u001b[0m, in \u001b[0;36mTransport.send_content\u001b[0;34m(self, connection, request_body)\u001b[0m\n\u001b[1;32m   1305\u001b[0m     request_body \u001b[38;5;241m=\u001b[39m gzip_encode(request_body)\n\u001b[1;32m   1307\u001b[0m connection\u001b[38;5;241m.\u001b[39mputheader(\u001b[38;5;124m\"\u001b[39m\u001b[38;5;124mContent-Length\u001b[39m\u001b[38;5;124m\"\u001b[39m, \u001b[38;5;28mstr\u001b[39m(\u001b[38;5;28mlen\u001b[39m(request_body)))\n\u001b[0;32m-> 1308\u001b[0m \u001b[43mconnection\u001b[49m\u001b[38;5;241;43m.\u001b[39;49m\u001b[43mendheaders\u001b[49m\u001b[43m(\u001b[49m\u001b[43mrequest_body\u001b[49m\u001b[43m)\u001b[49m\n",
      "File \u001b[0;32m/usr/lib/python3.8/http/client.py:1251\u001b[0m, in \u001b[0;36mHTTPConnection.endheaders\u001b[0;34m(self, message_body, encode_chunked)\u001b[0m\n\u001b[1;32m   1249\u001b[0m \u001b[38;5;28;01melse\u001b[39;00m:\n\u001b[1;32m   1250\u001b[0m     \u001b[38;5;28;01mraise\u001b[39;00m CannotSendHeader()\n\u001b[0;32m-> 1251\u001b[0m \u001b[38;5;28;43mself\u001b[39;49m\u001b[38;5;241;43m.\u001b[39;49m\u001b[43m_send_output\u001b[49m\u001b[43m(\u001b[49m\u001b[43mmessage_body\u001b[49m\u001b[43m,\u001b[49m\u001b[43m \u001b[49m\u001b[43mencode_chunked\u001b[49m\u001b[38;5;241;43m=\u001b[39;49m\u001b[43mencode_chunked\u001b[49m\u001b[43m)\u001b[49m\n",
      "File \u001b[0;32m/usr/lib/python3.8/http/client.py:1011\u001b[0m, in \u001b[0;36mHTTPConnection._send_output\u001b[0;34m(self, message_body, encode_chunked)\u001b[0m\n\u001b[1;32m   1009\u001b[0m msg \u001b[38;5;241m=\u001b[39m \u001b[38;5;124mb\u001b[39m\u001b[38;5;124m\"\u001b[39m\u001b[38;5;130;01m\\r\u001b[39;00m\u001b[38;5;130;01m\\n\u001b[39;00m\u001b[38;5;124m\"\u001b[39m\u001b[38;5;241m.\u001b[39mjoin(\u001b[38;5;28mself\u001b[39m\u001b[38;5;241m.\u001b[39m_buffer)\n\u001b[1;32m   1010\u001b[0m \u001b[38;5;28;01mdel\u001b[39;00m \u001b[38;5;28mself\u001b[39m\u001b[38;5;241m.\u001b[39m_buffer[:]\n\u001b[0;32m-> 1011\u001b[0m \u001b[38;5;28;43mself\u001b[39;49m\u001b[38;5;241;43m.\u001b[39;49m\u001b[43msend\u001b[49m\u001b[43m(\u001b[49m\u001b[43mmsg\u001b[49m\u001b[43m)\u001b[49m\n\u001b[1;32m   1013\u001b[0m \u001b[38;5;28;01mif\u001b[39;00m message_body \u001b[38;5;129;01mis\u001b[39;00m \u001b[38;5;129;01mnot\u001b[39;00m \u001b[38;5;28;01mNone\u001b[39;00m:\n\u001b[1;32m   1014\u001b[0m \n\u001b[1;32m   1015\u001b[0m     \u001b[38;5;66;03m# create a consistent interface to message_body\u001b[39;00m\n\u001b[1;32m   1016\u001b[0m     \u001b[38;5;28;01mif\u001b[39;00m \u001b[38;5;28mhasattr\u001b[39m(message_body, \u001b[38;5;124m'\u001b[39m\u001b[38;5;124mread\u001b[39m\u001b[38;5;124m'\u001b[39m):\n\u001b[1;32m   1017\u001b[0m         \u001b[38;5;66;03m# Let file-like take precedence over byte-like.  This\u001b[39;00m\n\u001b[1;32m   1018\u001b[0m         \u001b[38;5;66;03m# is needed to allow the current position of mmap'ed\u001b[39;00m\n\u001b[1;32m   1019\u001b[0m         \u001b[38;5;66;03m# files to be taken into account.\u001b[39;00m\n",
      "File \u001b[0;32m/usr/lib/python3.8/http/client.py:951\u001b[0m, in \u001b[0;36mHTTPConnection.send\u001b[0;34m(self, data)\u001b[0m\n\u001b[1;32m    949\u001b[0m \u001b[38;5;28;01mif\u001b[39;00m \u001b[38;5;28mself\u001b[39m\u001b[38;5;241m.\u001b[39msock \u001b[38;5;129;01mis\u001b[39;00m \u001b[38;5;28;01mNone\u001b[39;00m:\n\u001b[1;32m    950\u001b[0m     \u001b[38;5;28;01mif\u001b[39;00m \u001b[38;5;28mself\u001b[39m\u001b[38;5;241m.\u001b[39mauto_open:\n\u001b[0;32m--> 951\u001b[0m         \u001b[38;5;28;43mself\u001b[39;49m\u001b[38;5;241;43m.\u001b[39;49m\u001b[43mconnect\u001b[49m\u001b[43m(\u001b[49m\u001b[43m)\u001b[49m\n\u001b[1;32m    952\u001b[0m     \u001b[38;5;28;01melse\u001b[39;00m:\n\u001b[1;32m    953\u001b[0m         \u001b[38;5;28;01mraise\u001b[39;00m NotConnected()\n",
      "File \u001b[0;32m/usr/lib/python3.8/http/client.py:922\u001b[0m, in \u001b[0;36mHTTPConnection.connect\u001b[0;34m(self)\u001b[0m\n\u001b[1;32m    920\u001b[0m \u001b[38;5;28;01mdef\u001b[39;00m \u001b[38;5;21mconnect\u001b[39m(\u001b[38;5;28mself\u001b[39m):\n\u001b[1;32m    921\u001b[0m \u001b[38;5;250m    \u001b[39m\u001b[38;5;124;03m\"\"\"Connect to the host and port specified in __init__.\"\"\"\u001b[39;00m\n\u001b[0;32m--> 922\u001b[0m     \u001b[38;5;28mself\u001b[39m\u001b[38;5;241m.\u001b[39msock \u001b[38;5;241m=\u001b[39m \u001b[38;5;28;43mself\u001b[39;49m\u001b[38;5;241;43m.\u001b[39;49m\u001b[43m_create_connection\u001b[49m\u001b[43m(\u001b[49m\n\u001b[1;32m    923\u001b[0m \u001b[43m        \u001b[49m\u001b[43m(\u001b[49m\u001b[38;5;28;43mself\u001b[39;49m\u001b[38;5;241;43m.\u001b[39;49m\u001b[43mhost\u001b[49m\u001b[43m,\u001b[49m\u001b[38;5;28;43mself\u001b[39;49m\u001b[38;5;241;43m.\u001b[39;49m\u001b[43mport\u001b[49m\u001b[43m)\u001b[49m\u001b[43m,\u001b[49m\u001b[43m \u001b[49m\u001b[38;5;28;43mself\u001b[39;49m\u001b[38;5;241;43m.\u001b[39;49m\u001b[43mtimeout\u001b[49m\u001b[43m,\u001b[49m\u001b[43m \u001b[49m\u001b[38;5;28;43mself\u001b[39;49m\u001b[38;5;241;43m.\u001b[39;49m\u001b[43msource_address\u001b[49m\u001b[43m)\u001b[49m\n\u001b[1;32m    924\u001b[0m     \u001b[38;5;28mself\u001b[39m\u001b[38;5;241m.\u001b[39msock\u001b[38;5;241m.\u001b[39msetsockopt(socket\u001b[38;5;241m.\u001b[39mIPPROTO_TCP, socket\u001b[38;5;241m.\u001b[39mTCP_NODELAY, \u001b[38;5;241m1\u001b[39m)\n\u001b[1;32m    926\u001b[0m     \u001b[38;5;28;01mif\u001b[39;00m \u001b[38;5;28mself\u001b[39m\u001b[38;5;241m.\u001b[39m_tunnel_host:\n",
      "File \u001b[0;32m/usr/lib/python3.8/socket.py:808\u001b[0m, in \u001b[0;36mcreate_connection\u001b[0;34m(address, timeout, source_address)\u001b[0m\n\u001b[1;32m    806\u001b[0m \u001b[38;5;28;01mif\u001b[39;00m err \u001b[38;5;129;01mis\u001b[39;00m \u001b[38;5;129;01mnot\u001b[39;00m \u001b[38;5;28;01mNone\u001b[39;00m:\n\u001b[1;32m    807\u001b[0m     \u001b[38;5;28;01mtry\u001b[39;00m:\n\u001b[0;32m--> 808\u001b[0m         \u001b[38;5;28;01mraise\u001b[39;00m err\n\u001b[1;32m    809\u001b[0m     \u001b[38;5;28;01mfinally\u001b[39;00m:\n\u001b[1;32m    810\u001b[0m         \u001b[38;5;66;03m# Break explicitly a reference cycle\u001b[39;00m\n\u001b[1;32m    811\u001b[0m         err \u001b[38;5;241m=\u001b[39m \u001b[38;5;28;01mNone\u001b[39;00m\n",
      "File \u001b[0;32m/usr/lib/python3.8/socket.py:796\u001b[0m, in \u001b[0;36mcreate_connection\u001b[0;34m(address, timeout, source_address)\u001b[0m\n\u001b[1;32m    794\u001b[0m \u001b[38;5;28;01mif\u001b[39;00m source_address:\n\u001b[1;32m    795\u001b[0m     sock\u001b[38;5;241m.\u001b[39mbind(source_address)\n\u001b[0;32m--> 796\u001b[0m \u001b[43msock\u001b[49m\u001b[38;5;241;43m.\u001b[39;49m\u001b[43mconnect\u001b[49m\u001b[43m(\u001b[49m\u001b[43msa\u001b[49m\u001b[43m)\u001b[49m\n\u001b[1;32m    797\u001b[0m \u001b[38;5;66;03m# Break explicitly a reference cycle\u001b[39;00m\n\u001b[1;32m    798\u001b[0m err \u001b[38;5;241m=\u001b[39m \u001b[38;5;28;01mNone\u001b[39;00m\n",
      "\u001b[0;31mConnectionRefusedError\u001b[0m: [Errno 111] Connection refused"
     ]
    }
   ],
   "source": [
    "%matplotlib notebook\n",
    "\n",
    "\n",
    "import numpy as np\n",
    "import matplotlib.pyplot as plt\n",
    "import ipywidgets as widgets\n",
    "from IPython.display import display, clear_output, Markdown\n",
    "import jupyros as jr\n",
    "import rospy\n",
    "\n",
    "\n",
    "#importing ros messages and services\n",
    "import actionlib\n",
    "from nav_msgs.msg import Odometry\n",
    "from geometry_msgs.msg import Twist\n",
    "from std_msgs.msg import String\n",
    "from rt2_assignment1.srv import Command, CommandRequest\n",
    "import rt2_assignment1.msg\n",
    "import actionlib.msg\n",
    "from matplotlib import animation, rc\n",
    "\n",
    "#node initialization\n",
    "rospy.init_node(\"widget_control\")\n",
    "\n",
    "#client user interface to play with the robot\n",
    "global ui_client, act_client\n",
    "ui_client = rospy.ServiceProxy('/user_interface', Command)\n",
    "\n",
    "act_client = actionlib.SimpleActionClient('/reaching_goal',rt2_assignment1.msg.planningAction)\n",
    "act_client.wait_for_server()\n",
    "\n",
    "#publishing the velocity to move the robot\n",
    "pub = rospy.Publisher('/cmd_vel', Twist, queue_size=1)\n",
    "msg= Twist()\n",
    "\n",
    "\n",
    "\n",
    "\n",
    "\n"
   ]
  },
  {
   "cell_type": "code",
   "execution_count": 3,
   "id": "37b5ebe2",
   "metadata": {
    "ExecuteTime": {
     "end_time": "2023-07-11T19:17:08.746381Z",
     "start_time": "2023-07-11T19:17:08.696330Z"
    }
   },
   "outputs": [
    {
     "data": {
      "application/vnd.jupyter.widget-view+json": {
       "model_id": "471f0c0819384612adf076d48bc388d4",
       "version_major": 2,
       "version_minor": 0
      },
      "text/plain": [
       "Button(description='Start', layout=Layout(height='80px', width='50%'), style=ButtonStyle())"
      ]
     },
     "metadata": {},
     "output_type": "display_data"
    },
    {
     "data": {
      "application/vnd.jupyter.widget-view+json": {
       "model_id": "fe5ffc184a964eb6979f9dc6a9b02c39",
       "version_major": 2,
       "version_minor": 0
      },
      "text/plain": [
       "Button(description='Stop', layout=Layout(height='80px', width='50%'), style=ButtonStyle())"
      ]
     },
     "metadata": {},
     "output_type": "display_data"
    }
   ],
   "source": [
    "#start and stop buttons\n",
    "\n",
    "button_start= widgets.Button(description=\"Start\",\n",
    "                             layout= widgets.Layout(width='50%', height='80px')) \n",
    "button_stop= widgets.Button(description=\"Stop\",\n",
    "                            layout= button_start.layout)\n",
    "\n",
    "#call on action client to handle the action preemption\n",
    "\n",
    "\n",
    "def on_start_clicked(_):\n",
    "    global ui_\n",
    "    ui_client= (\"start\")\n",
    "\n",
    "\n",
    "def on_stop_clicked(_):\n",
    "    ui_client= (\"stop\")\n",
    "    act_client.cancel_goal()\n",
    "    \n",
    "\n",
    "#linking button and function together \n",
    "button_start.on_click(on_start_clicked)  \n",
    "button_stop.on_click(on_stop_clicked)\n",
    "\n",
    "display(button_start)\n",
    "display(button_stop)\n",
    "    "
   ]
  },
  {
   "cell_type": "code",
   "execution_count": 4,
   "id": "1c9fb630",
   "metadata": {
    "ExecuteTime": {
     "end_time": "2023-07-11T19:17:10.679948Z",
     "start_time": "2023-07-11T19:17:10.650474Z"
    }
   },
   "outputs": [
    {
     "data": {
      "application/vnd.jupyter.widget-view+json": {
       "model_id": "a14a9dfcaac84317827adcec714038d0",
       "version_major": 2,
       "version_minor": 0
      },
      "text/plain": [
       "IntSlider(value=0, description='Set linear_v', max=5, style=SliderStyle(description_width='initial'))"
      ]
     },
     "metadata": {},
     "output_type": "display_data"
    },
    {
     "data": {
      "application/vnd.jupyter.widget-view+json": {
       "model_id": "7b302d91d2b049efb97fc0f5622f3688",
       "version_major": 2,
       "version_minor": 0
      },
      "text/plain": [
       "IntSlider(value=0, description='Set angular_v', max=5, style=SliderStyle(description_width='initial'))"
      ]
     },
     "metadata": {},
     "output_type": "display_data"
    }
   ],
   "source": [
    "#Sliders for setting linear and angular velocity\n",
    "\n",
    "style = {'description_width': 'initial'}\n",
    "linear= widgets.IntSlider(min=0, max=5, description= 'Set linear_v',style=style)\n",
    "display(linear)\n",
    "\n",
    "widgets.IntSlider()\n",
    "\n",
    "angular= widgets.IntSlider(min=0, max=5, description= 'Set angular_v', style= style)\n",
    "display(angular)\n",
    "\n",
    "def set_linear():\n",
    "    msg.linear.x\n",
    "    pub.publish(msg)\n",
    "    \n",
    "\n",
    "def set_angular():\n",
    "    msg.angular.z\n",
    "    pub.publish(msg)"
   ]
  },
  {
   "cell_type": "code",
   "execution_count": 5,
   "id": "3c762819",
   "metadata": {
    "ExecuteTime": {
     "end_time": "2023-07-11T19:17:11.914748Z",
     "start_time": "2023-07-11T19:17:11.834128Z"
    },
    "scrolled": true
   },
   "outputs": [
    {
     "data": {
      "application/vnd.jupyter.widget-view+json": {
       "model_id": "52259e8cab344c53bb01c7cd5a8ccfe8",
       "version_major": 2,
       "version_minor": 0
      },
      "text/plain": [
       "AppLayout(children=(Button(description='Forward', layout=Layout(grid_area='header', height='auto', width='auto…"
      ]
     },
     "metadata": {},
     "output_type": "display_data"
    }
   ],
   "source": [
    "#Buttons to move the robot up, down, left, right and to stop it\n",
    "\n",
    "forward= widgets.Button(description= \"Forward\",\n",
    "                       layout= widgets.Layout(width='auto', height='auto'))\n",
    "backward= widgets.Button(description = \"Backward\",\n",
    "                        layout= widgets.Layout(width= 'auto', height='auto'))\n",
    "right= widgets.Button(description = \"Right\",\n",
    "                     layout= widgets.Layout(width='auto', height='auto'))\n",
    "left= widgets.Button(description = \"Left\",\n",
    "                    layout= widgets.Layout(width='auto', height='auto'))\n",
    "stop = widgets.Button(description = \"Stop\",\n",
    "                     layout= widgets.Layout(width='auto', height='auto'),button_style='danger')\n",
    "\n",
    "\n",
    "def on_up_clicked(_):\n",
    "    act_client.cancel_goal()\n",
    "    msg.linear.x= linear.value\n",
    "    msg.linear.z = 0\n",
    "    pub.publish(msg)\n",
    "    \n",
    "    \n",
    "def on_down_clicked(_):\n",
    "    act_client.cancel_goal()\n",
    "    msg.linear.x = -linear.value\n",
    "    msg.linear.z =0\n",
    "    pub.publish(msg)\n",
    "    \n",
    "\n",
    "def on_right_clicked(_):\n",
    "    act_client.cancel_goal()\n",
    "    msg.linear.x = 0\n",
    "    msg.linear.z = angular.value\n",
    "    pub.publish(msg)\n",
    "    \n",
    "    \n",
    "def on_left_clicked(_):\n",
    "    act_client.cancel_goal()\n",
    "    msg.linear.x = 0\n",
    "    msg.angular.z =-angular.value\n",
    "    pub.publish(msg)\n",
    "    \n",
    "    \n",
    "def on_stop_clicked(_):\n",
    "    act_client.cancel_goal()\n",
    "    msg.linear.x = 0\n",
    "    msg.angular.z = 0\n",
    "    pub.publish(msg)\n",
    "\n",
    "    \n",
    "    \n",
    "forward.on_click(on_up_clicked)\n",
    "backward.on_click(on_down_clicked)\n",
    "right.on_click(on_right_clicked)\n",
    "left.on_click(on_left_clicked)\n",
    "stop.on_click(on_stop_clicked)\n",
    "\n",
    "widgets.AppLayout(header= forward,\n",
    "                 left_sidebar= left,\n",
    "                 right_sidebar= right,\n",
    "                 footer= backward,\n",
    "                 center = stop,\n",
    "                 grid_gap= '20px',\n",
    "                 justify_items= 'center',\n",
    "                 align_items = 'center')\n",
    "               \n"
   ]
  },
  {
   "cell_type": "code",
   "execution_count": 20,
   "id": "42cae7b3",
   "metadata": {
    "ExecuteTime": {
     "end_time": "2023-07-11T20:03:43.575771Z",
     "start_time": "2023-07-11T20:03:43.090220Z"
    }
   },
   "outputs": [
    {
     "name": "stderr",
     "output_type": "stream",
     "text": [
      "/tmp/ipykernel_82133/2550798531.py:97: UserWarning: frames=None which we can infer the length of, did not pass an explicit *save_count* and passed cache_frame_data=True.  To avoid a possibly unbounded cache, frame data caching has been disabled. To suppress this warning either pass `cache_frame_data=False` or `save_count=MAX_FRAMES`.\n",
      "  anim = animation.FuncAnimation(fig1, func1,\n",
      "/tmp/ipykernel_82133/2550798531.py:100: UserWarning: frames=None which we can infer the length of, did not pass an explicit *save_count* and passed cache_frame_data=True.  To avoid a possibly unbounded cache, frame data caching has been disabled. To suppress this warning either pass `cache_frame_data=False` or `save_count=MAX_FRAMES`.\n",
      "  anim = animation.FuncAnimation(fig1, func2,\n",
      "/home/roberta/.local/lib/python3.8/site-packages/matplotlib/animation.py:884: UserWarning: Animation was deleted without rendering anything. This is most likely not intended. To prevent deletion, assign the Animation to a variable, e.g. `anim`, that exists until you output the Animation using `plt.show()` or `anim.save()`.\n",
      "  warnings.warn(\n",
      "/tmp/ipykernel_82133/2550798531.py:104: UserWarning: frames=None which we can infer the length of, did not pass an explicit *save_count* and passed cache_frame_data=True.  To avoid a possibly unbounded cache, frame data caching has been disabled. To suppress this warning either pass `cache_frame_data=False` or `save_count=MAX_FRAMES`.\n",
      "  anim = animation.FuncAnimation(fig2, func3,\n",
      "/tmp/ipykernel_82133/2550798531.py:107: UserWarning: frames=None which we can infer the length of, did not pass an explicit *save_count* and passed cache_frame_data=True.  To avoid a possibly unbounded cache, frame data caching has been disabled. To suppress this warning either pass `cache_frame_data=False` or `save_count=MAX_FRAMES`.\n",
      "  anim = animation.FuncAnimation(fig2, func4,\n"
     ]
    },
    {
     "name": "stdout",
     "output_type": "stream",
     "text": [
      "[0, 1, 2, 3, 4, 5, 6, 7, 8, 9, 10]\n"
     ]
    },
    {
     "data": {
      "image/png": "[encoded data removed]",
      "text/plain": [
       "<Figure size 640x480 with 1 Axes>"
      ]
     },
     "metadata": {},
     "output_type": "display_data"
    },
    {
     "data": {
      "image/png": "[encoded data removed]",
      "text/plain": [
       "<Figure size 640x480 with 1 Axes>"
      ]
     },
     "metadata": {},
     "output_type": "display_data"
    }
   ],
   "source": [
    "#PLOTTING CMD VELOCITIES VS ODOM VELOCITIES\n",
    "\n",
    "import rospy\n",
    "import numpy as np\n",
    "from nav_msgs.msg import Odometry\n",
    "from geometry_msgs.msg import Twist\n",
    "import matplotlib.pyplot as plt\n",
    "from matplotlib import animation, rc\n",
    "\n",
    "\n",
    "\n",
    "lin_vel_cmd = []\n",
    "ang_vel_cmd = []\n",
    "\n",
    "lin_vel_actual= []\n",
    "ang_vel_actual = []\n",
    "\n",
    "fig1= plt.figure()\n",
    "\n",
    "lin_axis = plt.axes(xlim =(-10, 10),\n",
    "                ylim =(-10, 10))\n",
    "\n",
    "lin_axis.set_title(\"Linear velocities\")\n",
    "\n",
    "fig2= plt.figure()\n",
    "\n",
    "ang_axis = plt.axes(xlim =(-10, 10),\n",
    "                ylim =(-10, 10))\n",
    "ang_axis.set_title(\"Angular velocities\")\n",
    " \n",
    "cmd_ang_line, = ang_axis.plot([], [], 'o')\n",
    "odom_ang_line, = ang_axis.plot([], [], 'o')\n",
    "\n",
    "cmd_lin_line, = lin_axis.plot([], [], 'o')\n",
    "odom_lin_line, = lin_axis.plot([], [], 'o')\n",
    "\n",
    "timestamp = np.arange(0, 11, 1).tolist()\n",
    "print(timestamp)\n",
    "\n",
    "#timestamp2 = len(lin_vel_cmd)\n",
    "#print(timestamp2)\n",
    "\n",
    "def twist_callback(msg):\n",
    "    global lin_vel_cmd, ang_vel_cmd\n",
    "    cmd_vel.linear.x\n",
    "    cmd_vel.angular.z\n",
    "    lin_vel_cmd.append(cmd_vel.linear.x)\n",
    "    ang_vel_cmd.append(cmd_vel.angular.z)\n",
    "      \n",
    "    \n",
    "    \n",
    "def odom_callback(msg):\n",
    "    lin_vel_actual, ang_vel_actual\n",
    "    msg_odom.twist.twist.linear.x\n",
    "    msg_odom.twist.twist.angular.z\n",
    "    lin_vel_actual.append(msg_odom.twist.twist.linear.x)\n",
    "    ang_vel_actual.append(msg_odom.twist.twist.angular.z)\n",
    "    \n",
    "    \n",
    "def init1():\n",
    "    cmd_ang_line.set_data([], [])\n",
    "    return cmd_ang_line, \n",
    "    \n",
    "def init2():\n",
    "    odom_ang_line.set_data([], [])\n",
    "    return odom_ang_line, \n",
    "\n",
    "def init3():\n",
    "    cmd_lin_line.set_data([], [])\n",
    "    return cmd_lin_line,\n",
    "    \n",
    "def init4():\n",
    "    odom_lin_line.set_data([], [])    \n",
    "    return odom_lin_line,\n",
    "\n",
    "\n",
    "def func1():\n",
    "    cmd_ang_line.set_data(timestamp, angular_vel_cmd)\n",
    "    return cmd_ang_line,\n",
    "\n",
    "def funct2():\n",
    "    odom_ang_line.set_data(timestamp, angular_vel_actual)\n",
    "    return odom_ang_line, \n",
    "    \n",
    "def func3():\n",
    "    cmd_lin_line.set_data(timestamp, lin_vel_cmd)\n",
    "    return cmd_lin_line\n",
    "    \n",
    "def func4():\n",
    "    odom_lin_line.set_data(timestamp, lin_vel_actual)\n",
    "    return odom_lin_line, \n",
    "    \n",
    "    \n",
    "\n",
    "#Plotting data\n",
    "\n",
    "anim = animation.FuncAnimation(fig1, func1,\n",
    "                            init_func = init1)\n",
    "\n",
    "anim = animation.FuncAnimation(fig1, func2,\n",
    "                            init_func = init2)\n",
    "\n",
    "\n",
    "anim = animation.FuncAnimation(fig2, func3,\n",
    "                            init_func = init3)\n",
    "\n",
    "anim = animation.FuncAnimation(fig2, func4,\n",
    "                            init_func = init4)\n",
    "\n",
    "\n",
    "sub_cmd = rospy.Subscriber(\"/cmd_vel\", Twist, twist_callback)\n",
    "sub_odom = rospy.Subscriber(\"/odom\", Odometry, odom_callback)"
   ]
  },
  {
   "cell_type": "code",
   "execution_count": 21,
   "id": "553dedcc",
   "metadata": {
    "ExecuteTime": {
     "end_time": "2023-07-11T20:03:50.262369Z",
     "start_time": "2023-07-11T20:03:49.849653Z"
    }
   },
   "outputs": [
    {
     "name": "stderr",
     "output_type": "stream",
     "text": [
      "/tmp/ipykernel_82133/1011881524.py:40: UserWarning: frames=None which we can infer the length of, did not pass an explicit *save_count* and passed cache_frame_data=True.  To avoid a possibly unbounded cache, frame data caching has been disabled. To suppress this warning either pass `cache_frame_data=False` or `save_count=MAX_FRAMES`.\n",
      "  animation.FuncAnimation(fig_pos, func, init_func = init)\n"
     ]
    },
    {
     "data": {
      "text/plain": [
       "<matplotlib.animation.FuncAnimation at 0x7f5a0981d520>"
      ]
     },
     "execution_count": 21,
     "metadata": {},
     "output_type": "execute_result"
    },
    {
     "name": "stderr",
     "output_type": "stream",
     "text": [
      "/tmp/ipykernel_82133/1011881524.py:22: MatplotlibDeprecationWarning: Setting data with a non sequence type is deprecated since 3.7 and will be remove two minor releases later\n",
      "  line.set_data(-5,5)\n"
     ]
    },
    {
     "data": {
      "image/png": "[encoded data removed]",
      "text/plain": [
       "<Figure size 640x480 with 1 Axes>"
      ]
     },
     "metadata": {},
     "output_type": "display_data"
    }
   ],
   "source": [
    "# ROBOT POSITION\n",
    "\n",
    "import jupyros as jr\n",
    "import rospy\n",
    "from nav_msgs.msg import Odometry\n",
    "from geometry_msgs.msg import Twist\n",
    "import matplotlib.pyplot as plt\n",
    "from matplotlib import animation\n",
    "import matplotlib.pyplot as plt\n",
    "\n",
    "#Plotting data\n",
    "fig_pos = plt.figure()\n",
    "axis = plt.axes(xlim =(-10, 10),\n",
    "                ylim =(-10, 10))\n",
    "line, = ax.plot([], [], 'o')\n",
    "axis.set_title(\"Position\")\n",
    "\n",
    "#initializing as empty val\n",
    "x_pos, y_pos = [], []\n",
    "\n",
    "def init():\n",
    "    line.set_data(-5,5)\n",
    "    return line,\n",
    "\n",
    "\n",
    "def odom_callback(msg):\n",
    "    msg.pose.pose.position.x\n",
    "    msg.pose.pose.position.y\n",
    "\n",
    "    x_pos.append(msg.pose.pose.position.x)\n",
    "    y_pos.append(msg.pose.pose.position.y)\n",
    "\n",
    "def func():\n",
    "    line.set_data(x_pos,y_pos)\n",
    "    return line,\n",
    "\n",
    "\n",
    "sub_pos= rospy.Subscriber(\"/odom\", Odometry, odom_callback)\n",
    "\n",
    "animation.FuncAnimation(fig_pos, func, init_func = init)"
   ]
  },
  {
   "cell_type": "code",
   "execution_count": null,
   "id": "0aeae0f0",
   "metadata": {},
   "outputs": [],
   "source": []
  }
 ],
 "metadata": {
  "kernelspec": {
   "display_name": "Python 3 (ipykernel)",
   "language": "python",
   "name": "python3"
  },
  "language_info": {
   "codemirror_mode": {
    "name": "ipython",
    "version": 3
   },
   "file_extension": ".py",
   "mimetype": "text/x-python",
   "name": "python",
   "nbconvert_exporter": "python",
   "pygments_lexer": "ipython3",
   "version": "3.8.10"
  }
 },
 "nbformat": 4,
 "nbformat_minor": 5
}
